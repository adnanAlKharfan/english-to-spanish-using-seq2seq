{
  "nbformat": 4,
  "nbformat_minor": 0,
  "metadata": {
    "colab": {
      "name": "Seq2Seq_with_attention_using_teacher_forcing.ipynb",
      "provenance": [],
      "collapsed_sections": []
    },
    "kernelspec": {
      "name": "python3",
      "display_name": "Python 3"
    },
    "language_info": {
      "name": "python"
    },
    "gpuClass": "standard",
    "accelerator": "GPU"
  },
  "cells": [
    {
      "cell_type": "code",
      "execution_count": null,
      "metadata": {
        "id": "ta6avVtCp7ch",
        "colab": {
          "base_uri": "https://localhost:8080/"
        },
        "outputId": "7292d307-8646-4387-a714-c6bb7b6dd39c"
      },
      "outputs": [
        {
          "output_type": "stream",
          "name": "stdout",
          "text": [
            "--2022-07-27 10:07:50--  http://nlp.stanford.edu/data/glove.6B.zip\n",
            "Resolving nlp.stanford.edu (nlp.stanford.edu)... 171.64.67.140\n",
            "Connecting to nlp.stanford.edu (nlp.stanford.edu)|171.64.67.140|:80... connected.\n",
            "HTTP request sent, awaiting response... 302 Found\n",
            "Location: https://nlp.stanford.edu/data/glove.6B.zip [following]\n",
            "--2022-07-27 10:07:50--  https://nlp.stanford.edu/data/glove.6B.zip\n",
            "Connecting to nlp.stanford.edu (nlp.stanford.edu)|171.64.67.140|:443... connected.\n",
            "HTTP request sent, awaiting response... 301 Moved Permanently\n",
            "Location: https://downloads.cs.stanford.edu/nlp/data/glove.6B.zip [following]\n",
            "--2022-07-27 10:07:51--  https://downloads.cs.stanford.edu/nlp/data/glove.6B.zip\n",
            "Resolving downloads.cs.stanford.edu (downloads.cs.stanford.edu)... 171.64.64.22\n",
            "Connecting to downloads.cs.stanford.edu (downloads.cs.stanford.edu)|171.64.64.22|:443... connected.\n",
            "HTTP request sent, awaiting response... 200 OK\n",
            "Length: 862182613 (822M) [application/zip]\n",
            "Saving to: ‘glove.6B.zip’\n",
            "\n",
            "glove.6B.zip        100%[===================>] 822.24M  1.29MB/s    in 13m 56s \n",
            "\n",
            "2022-07-27 10:21:48 (1007 KB/s) - ‘glove.6B.zip’ saved [862182613/862182613]\n",
            "\n",
            "Archive:  ./glove.6B.zip\n",
            "  inflating: glove.6B.50d.txt        \n",
            "  inflating: glove.6B.100d.txt       \n",
            "  inflating: glove.6B.200d.txt       \n",
            "  inflating: glove.6B.300d.txt       \n",
            "--2022-07-27 10:22:08--  http://www.manythings.org/anki/spa-eng.zip\n",
            "Resolving www.manythings.org (www.manythings.org)... 173.254.30.110\n",
            "Connecting to www.manythings.org (www.manythings.org)|173.254.30.110|:80... connected.\n",
            "HTTP request sent, awaiting response... 200 OK\n",
            "Length: 5320329 (5.1M) [application/zip]\n",
            "Saving to: ‘spa-eng.zip’\n",
            "\n",
            "spa-eng.zip         100%[===================>]   5.07M  2.28MB/s    in 2.2s    \n",
            "\n",
            "2022-07-27 10:22:11 (2.28 MB/s) - ‘spa-eng.zip’ saved [5320329/5320329]\n",
            "\n",
            "Archive:  ./spa-eng.zip\n",
            "  inflating: _about.txt              \n",
            "  inflating: spa.txt                 \n"
          ]
        }
      ],
      "source": [
        "!wget http://nlp.stanford.edu/data/glove.6B.zip\n",
        "!unzip ./glove.6B.zip\n",
        "!wget http://www.manythings.org/anki/spa-eng.zip\n",
        "!unzip ./spa-eng.zip"
      ]
    },
    {
      "cell_type": "code",
      "source": [
        "from tensorflow import keras\n",
        "import numpy as np\n",
        "import pandas as pd\n",
        "from matplotlib import pyplot as plt\n",
        "import random"
      ],
      "metadata": {
        "id": "gmP0xmMKp8qp"
      },
      "execution_count": null,
      "outputs": []
    },
    {
      "cell_type": "code",
      "source": [
        "\n",
        "latent_dim=256\n",
        "emb_dim=100\n",
        "max_vocabs=20000\n",
        "\n",
        "data=open(\"spa.txt\")\n",
        "\n",
        "input_texts=[]\n",
        "target_input=[]\n",
        "target_output=[]\n",
        "for line in data:\n",
        "\n",
        "  if len(input_texts)==10000:\n",
        "    break\n",
        "  if \"\\t\" not in line:\n",
        "    continue  \n",
        "   \n",
        "  input_text,temp,_=line.lower().split(\"\\t\")  \n",
        "  if input_text!=\"\" and temp!=\"\" :\n",
        "    input_texts.append(input_text)\n",
        "    target_input.append(\"<sos> \"+temp)\n",
        "    target_output.append(temp+\" <eos>\")"
      ],
      "metadata": {
        "id": "Xz4YgxzvGKhn"
      },
      "execution_count": null,
      "outputs": []
    },
    {
      "cell_type": "code",
      "source": [
        "tokenizer_for_input=keras.preprocessing.text.Tokenizer(num_words=max_vocabs)\n",
        "tokenizer_for_input.fit_on_texts(input_texts)\n",
        "input_sequence=tokenizer_for_input.texts_to_sequences(input_texts)"
      ],
      "metadata": {
        "id": "nYPFnJrLGKYh"
      },
      "execution_count": null,
      "outputs": []
    },
    {
      "cell_type": "code",
      "source": [
        "\n",
        "\n",
        "tokenizer_for_output=keras.preprocessing.text.Tokenizer(num_words=max_vocabs,filters=\"\")\n",
        "tokenizer_for_output.fit_on_texts(target_input+target_output)\n",
        "target_input_sequence=tokenizer_for_output.texts_to_sequences(target_input)\n",
        "target_output_sequence=tokenizer_for_output.texts_to_sequences(target_output)"
      ],
      "metadata": {
        "id": "4NQzRCBpGKAa"
      },
      "execution_count": null,
      "outputs": []
    },
    {
      "cell_type": "code",
      "source": [
        "word2index_target=tokenizer_for_output.word_index"
      ],
      "metadata": {
        "id": "yTiPYwtVHFw0"
      },
      "execution_count": null,
      "outputs": []
    },
    {
      "cell_type": "code",
      "source": [
        "\n",
        "max_input_sequance_len=max(len(s) for s in input_sequence)\n",
        "max_output_sequance_len=max(len(s) for s in target_input_sequence)"
      ],
      "metadata": {
        "id": "oN3myEw-HFny"
      },
      "execution_count": null,
      "outputs": []
    },
    {
      "cell_type": "code",
      "source": [
        "input_sequence=keras.preprocessing.sequence.pad_sequences(input_sequence,maxlen=max_input_sequance_len,padding=\"post\")\n",
        "target_input_sequence=keras.preprocessing.sequence.pad_sequences(target_input_sequence,maxlen=max_output_sequance_len,padding=\"post\")\n",
        "target_output_sequence=keras.preprocessing.sequence.pad_sequences(target_output_sequence,maxlen=max_output_sequance_len,padding=\"post\")"
      ],
      "metadata": {
        "id": "EFE-Ww4rHMN0"
      },
      "execution_count": null,
      "outputs": []
    },
    {
      "cell_type": "code",
      "source": [
        "num_word=min(len(word2index_target)+1,max_vocabs)\n",
        "target=np.zeros((len(target_input),max_output_sequance_len,len(word2index_target)+1),dtype=\"float32\")\n",
        "for i,j in enumerate(target_output_sequence) :\n",
        "  for k,l in enumerate(j):\n",
        "    # if l>0:\n",
        "         target[i,k,l]=1.0"
      ],
      "metadata": {
        "id": "AgrvR6vEHMAV"
      },
      "execution_count": null,
      "outputs": []
    },
    {
      "cell_type": "code",
      "source": [
        "word2vec={}\n",
        "f=open(\"./glove.6B.\"+str(emb_dim)+\"d.txt\")    \n",
        "for line in f:\n",
        "        temp=line.split()\n",
        "        word=temp[0]\n",
        "        vec=np.asarray(temp[1:],dtype=\"float32\")\n",
        "        word2vec[word]=vec"
      ],
      "metadata": {
        "id": "mH7llD0hHPDa"
      },
      "execution_count": null,
      "outputs": []
    },
    {
      "cell_type": "code",
      "source": [
        "embedding_matrix=np.zeros((num_word,emb_dim))\n",
        "for word,i in word2index_target.items():\n",
        "  if i<max_vocabs:\n",
        "    embedding_vec=word2vec.get(word)\n",
        "    if  embedding_vec is not None:\n",
        "        embedding_matrix[i]=embedding_vec"
      ],
      "metadata": {
        "id": "GWDeSi2dHRbw"
      },
      "execution_count": null,
      "outputs": []
    },
    {
      "cell_type": "code",
      "source": [
        "\n",
        "def softmax_over_time(x):\n",
        "  assert(keras.backend.ndim(x)>2)\n",
        "  e=keras.backend.exp(x-keras.backend.max(x,axis=1,keepdims=True))\n",
        "  s=keras.backend.sum(e,axis=1,keepdims=True)\n",
        "  return e/s"
      ],
      "metadata": {
        "id": "MqrDHpV6qvs2"
      },
      "execution_count": null,
      "outputs": []
    },
    {
      "cell_type": "code",
      "source": [
        "input_embedding_layer=keras.layers.Embedding(num_word,emb_dim,weights=[embedding_matrix]\n",
        "                                        ,input_length=max_input_sequance_len)"
      ],
      "metadata": {
        "id": "B6aY5-6RHYZm"
      },
      "execution_count": null,
      "outputs": []
    },
    {
      "cell_type": "code",
      "source": [
        "encoder_input=keras.layers.Input(shape=(max_input_sequance_len,))\n",
        "the_output_of_input_embedding_layer=input_embedding_layer(encoder_input)\n",
        "encoder_lstm1=keras.layers.Bidirectional( keras.layers.LSTM(latent_dim, return_sequences=True,dropout=0.4\n",
        "                                                            ,recurrent_dropout=0.4))\n",
        "encoder_output=encoder_lstm1(the_output_of_input_embedding_layer)\n",
        "# encoder_output=keras.layers.BatchNormalization(momentum=0.8)(encoder_output)"
      ],
      "metadata": {
        "id": "aTjt3_10Havl",
        "colab": {
          "base_uri": "https://localhost:8080/"
        },
        "outputId": "40d291b6-4d8e-4958-960f-dfce94e624b1"
      },
      "execution_count": null,
      "outputs": [
        {
          "output_type": "stream",
          "name": "stdout",
          "text": [
            "WARNING:tensorflow:Layer lstm_7 will not use cuDNN kernels since it doesn't meet the criteria. It will use a generic GPU kernel as fallback when running on GPU.\n"
          ]
        },
        {
          "output_type": "stream",
          "name": "stderr",
          "text": [
            "WARNING:tensorflow:Layer lstm_7 will not use cuDNN kernels since it doesn't meet the criteria. It will use a generic GPU kernel as fallback when running on GPU.\n"
          ]
        },
        {
          "output_type": "stream",
          "name": "stdout",
          "text": [
            "WARNING:tensorflow:Layer lstm_7 will not use cuDNN kernels since it doesn't meet the criteria. It will use a generic GPU kernel as fallback when running on GPU.\n"
          ]
        },
        {
          "output_type": "stream",
          "name": "stderr",
          "text": [
            "WARNING:tensorflow:Layer lstm_7 will not use cuDNN kernels since it doesn't meet the criteria. It will use a generic GPU kernel as fallback when running on GPU.\n"
          ]
        },
        {
          "output_type": "stream",
          "name": "stdout",
          "text": [
            "WARNING:tensorflow:Layer lstm_7 will not use cuDNN kernels since it doesn't meet the criteria. It will use a generic GPU kernel as fallback when running on GPU.\n"
          ]
        },
        {
          "output_type": "stream",
          "name": "stderr",
          "text": [
            "WARNING:tensorflow:Layer lstm_7 will not use cuDNN kernels since it doesn't meet the criteria. It will use a generic GPU kernel as fallback when running on GPU.\n"
          ]
        }
      ]
    },
    {
      "cell_type": "code",
      "source": [
        "decoder_input=keras.layers.Input(shape=(max_output_sequance_len,))\n",
        "decoder_embedding_layer=keras.layers.Embedding(len(word2index_target)+1,emb_dim)\n",
        "the_output_of_decoder_embedding_layer=decoder_embedding_layer(decoder_input)\n",
        "# attn=keras.layers.Attention()\n",
        "# attn=keras.layers.MultiHeadAttention(num_heads=5,key_dim=2)\n",
        "attn_repeat_layer=keras.layers.RepeatVector(max_input_sequance_len)\n",
        "# attn_avg=keras.layers.AveragePooling1D(pool_size=3)\n",
        "attn_concat_layer=keras.layers.Concatenate(axis=-1)\n",
        "attn_dense_layer1=keras.layers.Dense(10,activation=\"tanh\")\n",
        "attn_dense_layer2=keras.layers.Dense(1,activation=softmax_over_time)\n",
        "attn_dot=keras.layers.Dot(axes=1)"
      ],
      "metadata": {
        "id": "9u1ZMfw3K_Hr"
      },
      "execution_count": null,
      "outputs": []
    },
    {
      "cell_type": "code",
      "source": [
        "def one_step_attention(h,s):\n",
        "  s=attn_repeat_layer(s)\n",
        "\n",
        "  x=attn_concat_layer([h,s])\n",
        "  x=attn_dense_layer1(x)\n",
        "  # # x1=attn_dense_layer1(h)\n",
        "  \n",
        "  alphas=attn_dense_layer2(x)\n",
        "  \n",
        "  context=attn_dot([alphas,h])\n",
        "  # context=attn([s,h,s])\n",
        " \n",
        "  # context=attn([s,h])\n",
        "  # context=attn_dot([context,h])\n",
        "  return context"
      ],
      "metadata": {
        "id": "ZBD0t5s5MPkW"
      },
      "execution_count": null,
      "outputs": []
    },
    {
      "cell_type": "code",
      "source": [
        "decoder_lstm1=keras.layers.LSTM(latent_dim,return_state=True,dropout=0.4\n",
        "                                                            ,recurrent_dropout=0.4)\n",
        "\n",
        "# decoder_dense1=keras.layers.Dense(4096,activation=\"tanh\") \n",
        "# decoder_dense2=keras.layers.Dense(4096*2,activation=\"sigmoid\") \n",
        "# decoder_Batch=keras.layers.BatchNormalization(momentum=0.8)\n",
        "decoder_dense=keras.layers.Dense(len(word2index_target)+1,activation=\"softmax\")\n",
        "initial_h=keras.layers.Input(shape=(latent_dim,),name=\"s0\")\n",
        "initial_c=keras.layers.Input(shape=(latent_dim,),name=\"c0\")\n",
        "decoder_concat_layer=keras.layers.Concatenate(axis=-1)\n",
        "s=initial_h\n",
        "c=initial_c\n",
        "output=[]\n",
        "# dec_repeat_layer=keras.layers.RepeatVector(max_output_sequance_len)\n",
        "for i in range(max_output_sequance_len):\n",
        "  context=one_step_attention(encoder_output,s)\n",
        "  selector=keras.layers.Lambda(lambda x: x[:,i:i+1])\n",
        "  xt=selector(the_output_of_decoder_embedding_layer)\n",
        "  decoder_lstm_input=decoder_concat_layer([context,xt])\n",
        "  o,s,c=decoder_lstm1( decoder_lstm_input,initial_state=[s,c])\n",
        "  # o=decoder_dense1(o)\n",
        "  # o=decoder_Batch(o)\n",
        "  decoder_output=decoder_dense(o)\n",
        "  output.append(decoder_output)\n",
        "def stack_transpose(x):\n",
        "  x=keras.backend.stack(x)\n",
        "  x=keras.backend.permute_dimensions(x,pattern=(1,0,2))\n",
        "  return x\n",
        "stack_and_transpose=keras.layers.Lambda(stack_transpose)\n",
        "output=stack_and_transpose(output) \n"
      ],
      "metadata": {
        "id": "IwbH-0D6M7tT",
        "colab": {
          "base_uri": "https://localhost:8080/"
        },
        "outputId": "991191eb-4cee-4378-8270-963edf448f66"
      },
      "execution_count": null,
      "outputs": [
        {
          "output_type": "stream",
          "name": "stdout",
          "text": [
            "WARNING:tensorflow:Layer lstm_8 will not use cuDNN kernels since it doesn't meet the criteria. It will use a generic GPU kernel as fallback when running on GPU.\n"
          ]
        },
        {
          "output_type": "stream",
          "name": "stderr",
          "text": [
            "WARNING:tensorflow:Layer lstm_8 will not use cuDNN kernels since it doesn't meet the criteria. It will use a generic GPU kernel as fallback when running on GPU.\n"
          ]
        }
      ]
    },
    {
      "cell_type": "code",
      "source": [
        "\n",
        "model=keras.Model([encoder_input,decoder_input,initial_h,initial_c],output) \n",
        "\n"
      ],
      "metadata": {
        "id": "xY_DHtHESSsW"
      },
      "execution_count": null,
      "outputs": []
    },
    {
      "cell_type": "code",
      "source": [
        "model.compile(optimizer=\"adam\",loss=keras.losses.CategoricalCrossentropy(),metrics=[\"accuracy\"])"
      ],
      "metadata": {
        "id": "fFWQFUROZ0Bl"
      },
      "execution_count": null,
      "outputs": []
    },
    {
      "cell_type": "code",
      "source": [
        "z=np.zeros((len(input_sequence),latent_dim))\n",
        "history=model.fit([input_sequence,target_input_sequence,z,z]\n",
        "          ,target,batch_size=64,epochs=50,validation_split=0.2,\n",
        "          callbacks=[keras.callbacks.EarlyStopping(monitor=\"val_loss\",patience=2,restore_best_weights=True)],use_multiprocessing=True)"
      ],
      "metadata": {
        "id": "DafWg7eoaU3s"
      },
      "execution_count": null,
      "outputs": []
    },
    {
      "cell_type": "code",
      "source": [
        "history=history.history"
      ],
      "metadata": {
        "id": "5k9xlgLDdGtY"
      },
      "execution_count": null,
      "outputs": []
    },
    {
      "cell_type": "code",
      "source": [
        "plt.plot(history[\"accuracy\"],label=\"accuracy\")\n",
        "plt.plot(history[\"val_accuracy\"],label=\"val_accuracy\")\n",
        "plt.legend()\n",
        "plt.show()"
      ],
      "metadata": {
        "id": "bcvHz6bFjLVX",
        "colab": {
          "base_uri": "https://localhost:8080/",
          "height": 265
        },
        "outputId": "611d3c79-5908-4fa4-caa2-2dc49a862f0f"
      },
      "execution_count": null,
      "outputs": [
        {
          "output_type": "display_data",
          "data": {
            "text/plain": [
              "<Figure size 432x288 with 1 Axes>"
            ],
            "image/png": "[encoded data removed]"
          },
          "metadata": {
            "needs_background": "light"
          }
        }
      ]
    },
    {
      "cell_type": "code",
      "source": [
        "plt.plot(history[\"loss\"],label=\"loss\")\n",
        "plt.plot(history[\"val_loss\"],label=\"val_loss\")\n",
        "plt.legend()\n",
        "plt.show()"
      ],
      "metadata": {
        "id": "bRmoqPSgkgJz",
        "colab": {
          "base_uri": "https://localhost:8080/",
          "height": 265
        },
        "outputId": "b3d17202-9c3a-498e-9bb9-8f4651d6867c"
      },
      "execution_count": null,
      "outputs": [
        {
          "output_type": "display_data",
          "data": {
            "text/plain": [
              "<Figure size 432x288 with 1 Axes>"
            ],
            "image/png": "[encoded data removed]"
          },
          "metadata": {
            "needs_background": "light"
          }
        }
      ]
    },
    {
      "cell_type": "code",
      "source": [
        "encoder_model=keras.Model(encoder_input,encoder_output)"
      ],
      "metadata": {
        "id": "7FjCBS8Fkmsn"
      },
      "execution_count": null,
      "outputs": []
    },
    {
      "cell_type": "code",
      "source": [
        "decoder_input_single_word=keras.layers.Input(shape=(1,))\n",
        "encoder_output_as_input=keras.layers.Input(shape=(max_input_sequance_len,latent_dim*2))\n",
        "the_output_of_decoder_embedding_layer=decoder_embedding_layer(decoder_input_single_word)\n",
        "context=one_step_attention(encoder_output_as_input,initial_h)\n",
        "decoder_lstm_input=decoder_concat_layer([context,the_output_of_decoder_embedding_layer])\n",
        "o,s,c=decoder_lstm1( decoder_lstm_input,initial_state=[initial_h,initial_c])\n",
        "decoder_output=decoder_dense(o)\n",
        "decoder_model=keras.Model([decoder_input_single_word,encoder_output_as_input,initial_h,initial_c],[decoder_output,s,c])"
      ],
      "metadata": {
        "id": "-DkfLzmxlKVE"
      },
      "execution_count": null,
      "outputs": []
    },
    {
      "cell_type": "code",
      "source": [
        "j=random.randint(0, len(input_sequence)-1)\n",
        "en_out=encoder_model.predict(input_sequence[j:j+1])\n",
        "print(\"orginal: \"+input_texts[j])\n",
        "de_in=np.asarray([[word2index_target[\"<sos>\"]]])\n",
        "z1=np.zeros(shape=(1,latent_dim))\n",
        "s=z1\n",
        "c=z1\n",
        "gen_sen=\"\"\n",
        "for i in range(max_output_sequance_len):\n",
        "  o,s,c=decoder_model.predict([de_in,en_out,s,c])\n",
        "  idx=np.argmax(o[0,:])\n",
        "  word=tokenizer_for_output.index_word[idx]  \n",
        "  de_in=np.asarray([[idx]])\n",
        "  if max_output_sequance_len-1==i:\n",
        "    print(\"done before finding eos\")\n",
        "    print(gen_sen)\n",
        "  if word==\"<eos>\":\n",
        "    \n",
        "    print(gen_sen)\n",
        "    break\n",
        "  else:\n",
        "    if gen_sen==\"\":\n",
        "      gen_sen+=word\n",
        "    else:\n",
        "      gen_sen+=\" \"+word  "
      ],
      "metadata": {
        "colab": {
          "base_uri": "https://localhost:8080/"
        },
        "id": "E22SuvOPsTCE",
        "outputId": "8205a291-a6e4-4021-d05a-687abd797fdd"
      },
      "execution_count": null,
      "outputs": [
        {
          "output_type": "stream",
          "name": "stdout",
          "text": [
            "orginal: cuff him.\n",
            "espósale.\n"
          ]
        }
      ]
    },
    {
      "cell_type": "code",
      "source": [
        ""
      ],
      "metadata": {
        "id": "OB92lW4H3Ppk"
      },
      "execution_count": null,
      "outputs": []
    }
  ]
}